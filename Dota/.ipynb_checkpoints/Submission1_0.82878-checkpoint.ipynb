{
 "cells": [
  {
   "cell_type": "code",
   "execution_count": 1,
   "metadata": {},
   "outputs": [],
   "source": [
    "# LB Score = 0.82878"
   ]
  },
  {
   "cell_type": "code",
   "execution_count": 2,
   "metadata": {},
   "outputs": [],
   "source": [
    "import pandas as pd\n",
    "import numpy as np\n",
    "from sklearn.linear_model import LogisticRegression\n",
    "from sklearn.ensemble import RandomForestClassifier\n",
    "import seaborn as sns\n",
    "from matplotlib import pyplot as plt\n",
    "from sklearn.metrics import roc_auc_score\n",
    "from sklearn.model_selection import TimeSeriesSplit, cross_val_score, GridSearchCV, StratifiedKFold, KFold\n",
    "from sklearn.preprocessing import StandardScaler"
   ]
  },
  {
   "cell_type": "code",
   "execution_count": 3,
   "metadata": {},
   "outputs": [],
   "source": [
    "df_train_features = pd.read_csv('data/train_features.csv', index_col='match_id_hash')\n",
    "df_test_features = pd.read_csv('data/test_features.csv', index_col='match_id_hash')"
   ]
  },
  {
   "cell_type": "code",
   "execution_count": 4,
   "metadata": {},
   "outputs": [],
   "source": [
    "df_targets = pd.read_csv('data/train_targets.csv')"
   ]
  },
  {
   "cell_type": "code",
   "execution_count": 5,
   "metadata": {},
   "outputs": [],
   "source": [
    "split_index = df_train_features.shape[0]"
   ]
  },
  {
   "cell_type": "code",
   "execution_count": 6,
   "metadata": {},
   "outputs": [
    {
     "data": {
      "text/plain": [
       "39675"
      ]
     },
     "execution_count": 6,
     "metadata": {},
     "output_type": "execute_result"
    }
   ],
   "source": [
    "split_index"
   ]
  },
  {
   "cell_type": "code",
   "execution_count": null,
   "metadata": {},
   "outputs": [],
   "source": []
  },
  {
   "cell_type": "code",
   "execution_count": 7,
   "metadata": {},
   "outputs": [],
   "source": [
    "df = pd.concat([df_train_features, df_test_features])"
   ]
  },
  {
   "cell_type": "code",
   "execution_count": null,
   "metadata": {},
   "outputs": [],
   "source": []
  },
  {
   "cell_type": "code",
   "execution_count": 8,
   "metadata": {},
   "outputs": [
    {
     "data": {
      "text/plain": [
       "(49675, 245)"
      ]
     },
     "execution_count": 8,
     "metadata": {},
     "output_type": "execute_result"
    }
   ],
   "source": [
    "df.shape"
   ]
  },
  {
   "cell_type": "code",
   "execution_count": 9,
   "metadata": {},
   "outputs": [
    {
     "data": {
      "text/html": [
       "<div>\n",
       "<style scoped>\n",
       "    .dataframe tbody tr th:only-of-type {\n",
       "        vertical-align: middle;\n",
       "    }\n",
       "\n",
       "    .dataframe tbody tr th {\n",
       "        vertical-align: top;\n",
       "    }\n",
       "\n",
       "    .dataframe thead th {\n",
       "        text-align: right;\n",
       "    }\n",
       "</style>\n",
       "<table border=\"1\" class=\"dataframe\">\n",
       "  <thead>\n",
       "    <tr style=\"text-align: right;\">\n",
       "      <th></th>\n",
       "      <th>match_id_hash</th>\n",
       "      <th>game_time</th>\n",
       "      <th>radiant_win</th>\n",
       "      <th>duration</th>\n",
       "      <th>time_remaining</th>\n",
       "      <th>next_roshan_team</th>\n",
       "    </tr>\n",
       "  </thead>\n",
       "  <tbody>\n",
       "    <tr>\n",
       "      <th>0</th>\n",
       "      <td>a400b8f29dece5f4d266f49f1ae2e98a</td>\n",
       "      <td>155</td>\n",
       "      <td>False</td>\n",
       "      <td>992</td>\n",
       "      <td>837</td>\n",
       "      <td>NaN</td>\n",
       "    </tr>\n",
       "    <tr>\n",
       "      <th>1</th>\n",
       "      <td>b9c57c450ce74a2af79c9ce96fac144d</td>\n",
       "      <td>658</td>\n",
       "      <td>True</td>\n",
       "      <td>1154</td>\n",
       "      <td>496</td>\n",
       "      <td>NaN</td>\n",
       "    </tr>\n",
       "    <tr>\n",
       "      <th>2</th>\n",
       "      <td>6db558535151ea18ca70a6892197db41</td>\n",
       "      <td>21</td>\n",
       "      <td>True</td>\n",
       "      <td>1503</td>\n",
       "      <td>1482</td>\n",
       "      <td>Radiant</td>\n",
       "    </tr>\n",
       "    <tr>\n",
       "      <th>3</th>\n",
       "      <td>46a0ddce8f7ed2a8d9bd5edcbb925682</td>\n",
       "      <td>576</td>\n",
       "      <td>True</td>\n",
       "      <td>1952</td>\n",
       "      <td>1376</td>\n",
       "      <td>NaN</td>\n",
       "    </tr>\n",
       "    <tr>\n",
       "      <th>4</th>\n",
       "      <td>b1b35ff97723d9b7ade1c9c3cf48f770</td>\n",
       "      <td>453</td>\n",
       "      <td>False</td>\n",
       "      <td>2001</td>\n",
       "      <td>1548</td>\n",
       "      <td>NaN</td>\n",
       "    </tr>\n",
       "  </tbody>\n",
       "</table>\n",
       "</div>"
      ],
      "text/plain": [
       "                      match_id_hash  game_time  radiant_win  duration  \\\n",
       "0  a400b8f29dece5f4d266f49f1ae2e98a        155        False       992   \n",
       "1  b9c57c450ce74a2af79c9ce96fac144d        658         True      1154   \n",
       "2  6db558535151ea18ca70a6892197db41         21         True      1503   \n",
       "3  46a0ddce8f7ed2a8d9bd5edcbb925682        576         True      1952   \n",
       "4  b1b35ff97723d9b7ade1c9c3cf48f770        453        False      2001   \n",
       "\n",
       "   time_remaining next_roshan_team  \n",
       "0             837              NaN  \n",
       "1             496              NaN  \n",
       "2            1482          Radiant  \n",
       "3            1376              NaN  \n",
       "4            1548              NaN  "
      ]
     },
     "execution_count": 9,
     "metadata": {},
     "output_type": "execute_result"
    }
   ],
   "source": [
    "df_targets.head()"
   ]
  },
  {
   "cell_type": "code",
   "execution_count": 10,
   "metadata": {},
   "outputs": [],
   "source": [
    "y_train = df_targets['radiant_win']"
   ]
  },
  {
   "cell_type": "code",
   "execution_count": 11,
   "metadata": {},
   "outputs": [],
   "source": [
    "new_features = pd.DataFrame()"
   ]
  },
  {
   "cell_type": "code",
   "execution_count": 12,
   "metadata": {},
   "outputs": [],
   "source": [
    "r_kills_columns = [col for col in df if col.endswith('kills')][:5]\n",
    "d_kills_columns = [col for col in df if col.endswith('kills')][5:]"
   ]
  },
  {
   "cell_type": "code",
   "execution_count": 13,
   "metadata": {},
   "outputs": [],
   "source": [
    "new_features['r_kills_mean'] = df[r_kills_columns].mean(axis = 1)\n",
    "new_features['r_kills_std'] = df[r_kills_columns].std(axis = 1)\n",
    "new_features['r_kills_total'] = df[r_kills_columns].sum(axis = 1)"
   ]
  },
  {
   "cell_type": "code",
   "execution_count": 14,
   "metadata": {},
   "outputs": [],
   "source": [
    "new_features['d_kills_mean'] = df[d_kills_columns].mean(axis = 1)\n",
    "new_features['d_kills_std'] = df[d_kills_columns].std(axis = 1)\n",
    "new_features['d_kills_total'] = df[d_kills_columns].sum(axis = 1)"
   ]
  },
  {
   "cell_type": "code",
   "execution_count": 15,
   "metadata": {},
   "outputs": [
    {
     "data": {
      "text/html": [
       "<div>\n",
       "<style scoped>\n",
       "    .dataframe tbody tr th:only-of-type {\n",
       "        vertical-align: middle;\n",
       "    }\n",
       "\n",
       "    .dataframe tbody tr th {\n",
       "        vertical-align: top;\n",
       "    }\n",
       "\n",
       "    .dataframe thead th {\n",
       "        text-align: right;\n",
       "    }\n",
       "</style>\n",
       "<table border=\"1\" class=\"dataframe\">\n",
       "  <thead>\n",
       "    <tr style=\"text-align: right;\">\n",
       "      <th></th>\n",
       "      <th>r_kills_mean</th>\n",
       "      <th>r_kills_std</th>\n",
       "      <th>r_kills_total</th>\n",
       "      <th>d_kills_mean</th>\n",
       "      <th>d_kills_std</th>\n",
       "      <th>d_kills_total</th>\n",
       "    </tr>\n",
       "    <tr>\n",
       "      <th>match_id_hash</th>\n",
       "      <th></th>\n",
       "      <th></th>\n",
       "      <th></th>\n",
       "      <th></th>\n",
       "      <th></th>\n",
       "      <th></th>\n",
       "    </tr>\n",
       "  </thead>\n",
       "  <tbody>\n",
       "    <tr>\n",
       "      <th>a400b8f29dece5f4d266f49f1ae2e98a</th>\n",
       "      <td>0.0</td>\n",
       "      <td>0.000000</td>\n",
       "      <td>0</td>\n",
       "      <td>0.2</td>\n",
       "      <td>0.447214</td>\n",
       "      <td>1</td>\n",
       "    </tr>\n",
       "    <tr>\n",
       "      <th>b9c57c450ce74a2af79c9ce96fac144d</th>\n",
       "      <td>3.2</td>\n",
       "      <td>2.489980</td>\n",
       "      <td>16</td>\n",
       "      <td>0.6</td>\n",
       "      <td>0.547723</td>\n",
       "      <td>3</td>\n",
       "    </tr>\n",
       "    <tr>\n",
       "      <th>6db558535151ea18ca70a6892197db41</th>\n",
       "      <td>0.0</td>\n",
       "      <td>0.000000</td>\n",
       "      <td>0</td>\n",
       "      <td>0.0</td>\n",
       "      <td>0.000000</td>\n",
       "      <td>0</td>\n",
       "    </tr>\n",
       "    <tr>\n",
       "      <th>46a0ddce8f7ed2a8d9bd5edcbb925682</th>\n",
       "      <td>1.2</td>\n",
       "      <td>1.095445</td>\n",
       "      <td>6</td>\n",
       "      <td>0.2</td>\n",
       "      <td>0.447214</td>\n",
       "      <td>1</td>\n",
       "    </tr>\n",
       "    <tr>\n",
       "      <th>b1b35ff97723d9b7ade1c9c3cf48f770</th>\n",
       "      <td>0.4</td>\n",
       "      <td>0.547723</td>\n",
       "      <td>2</td>\n",
       "      <td>0.8</td>\n",
       "      <td>0.836660</td>\n",
       "      <td>4</td>\n",
       "    </tr>\n",
       "  </tbody>\n",
       "</table>\n",
       "</div>"
      ],
      "text/plain": [
       "                                  r_kills_mean  r_kills_std  r_kills_total  \\\n",
       "match_id_hash                                                                \n",
       "a400b8f29dece5f4d266f49f1ae2e98a           0.0     0.000000              0   \n",
       "b9c57c450ce74a2af79c9ce96fac144d           3.2     2.489980             16   \n",
       "6db558535151ea18ca70a6892197db41           0.0     0.000000              0   \n",
       "46a0ddce8f7ed2a8d9bd5edcbb925682           1.2     1.095445              6   \n",
       "b1b35ff97723d9b7ade1c9c3cf48f770           0.4     0.547723              2   \n",
       "\n",
       "                                  d_kills_mean  d_kills_std  d_kills_total  \n",
       "match_id_hash                                                               \n",
       "a400b8f29dece5f4d266f49f1ae2e98a           0.2     0.447214              1  \n",
       "b9c57c450ce74a2af79c9ce96fac144d           0.6     0.547723              3  \n",
       "6db558535151ea18ca70a6892197db41           0.0     0.000000              0  \n",
       "46a0ddce8f7ed2a8d9bd5edcbb925682           0.2     0.447214              1  \n",
       "b1b35ff97723d9b7ade1c9c3cf48f770           0.8     0.836660              4  "
      ]
     },
     "execution_count": 15,
     "metadata": {},
     "output_type": "execute_result"
    }
   ],
   "source": [
    "new_features.head()"
   ]
  },
  {
   "cell_type": "code",
   "execution_count": 16,
   "metadata": {},
   "outputs": [],
   "source": [
    "new_features['kills_diff'] = new_features['d_kills_total'] - new_features['r_kills_total']"
   ]
  },
  {
   "cell_type": "code",
   "execution_count": 17,
   "metadata": {},
   "outputs": [
    {
     "data": {
      "text/plain": [
       "(49675, 245)"
      ]
     },
     "execution_count": 17,
     "metadata": {},
     "output_type": "execute_result"
    }
   ],
   "source": [
    "df.shape"
   ]
  },
  {
   "cell_type": "code",
   "execution_count": 18,
   "metadata": {},
   "outputs": [],
   "source": [
    "r_gold_columns = [col for col in df if col.endswith('gold')][:5]\n",
    "d_gold_columns = [col for col in df if col.endswith('gold')][5:]"
   ]
  },
  {
   "cell_type": "code",
   "execution_count": 19,
   "metadata": {},
   "outputs": [],
   "source": [
    "new_features['r_gold_mean'] = df[r_gold_columns].mean(axis = 1)\n",
    "new_features['r_gold_std'] = df[r_gold_columns].std(axis = 1)\n",
    "new_features['r_gold_total'] = df[r_gold_columns].sum(axis = 1)"
   ]
  },
  {
   "cell_type": "code",
   "execution_count": 20,
   "metadata": {},
   "outputs": [],
   "source": [
    "new_features['d_gold_mean'] = df[d_gold_columns].mean(axis = 1)\n",
    "new_features['d_gold_std'] = df[d_gold_columns].std(axis = 1)\n",
    "new_features['d_gold_total'] = df[d_gold_columns].sum(axis = 1)"
   ]
  },
  {
   "cell_type": "code",
   "execution_count": 21,
   "metadata": {},
   "outputs": [],
   "source": [
    "new_features['gold_prop'] = new_features['d_gold_total'] / new_features['r_gold_total']"
   ]
  },
  {
   "cell_type": "code",
   "execution_count": 22,
   "metadata": {},
   "outputs": [],
   "source": [
    "r_stuns_columns = [col for col in df if col.endswith('stuns')][:5]\n",
    "d_stuns_columns = [col for col in df if col.endswith('stuns')][5:]"
   ]
  },
  {
   "cell_type": "code",
   "execution_count": 23,
   "metadata": {},
   "outputs": [],
   "source": [
    "new_features['d_stuns_total'] = df[d_stuns_columns].sum(axis = 1)\n",
    "new_features['r_stuns_total'] = df[r_stuns_columns].sum(axis = 1)"
   ]
  },
  {
   "cell_type": "code",
   "execution_count": 24,
   "metadata": {},
   "outputs": [],
   "source": [
    "r_max_health_columns = [col for col in df if col.endswith('max_health')][:5]\n",
    "d_max_health_columns = [col for col in df if col.endswith('max_health')][5:]\n",
    "new_features['d_max_health_total'] = df[r_max_health_columns].sum(axis = 1)\n",
    "new_features['r_max_health_total'] = df[d_max_health_columns].sum(axis = 1)"
   ]
  },
  {
   "cell_type": "code",
   "execution_count": 25,
   "metadata": {},
   "outputs": [],
   "source": [
    "r_max_mana_columns = [col for col in df if col.endswith('max_mana')][:5]\n",
    "d_max_mana_columns = [col for col in df if col.endswith('max_mana')][5:]\n",
    "new_features['d_max_mana_total'] = df[r_max_mana_columns].sum(axis = 1)\n",
    "new_features['r_max_mana_total'] = df[d_max_mana_columns].sum(axis = 1)"
   ]
  },
  {
   "cell_type": "code",
   "execution_count": 26,
   "metadata": {},
   "outputs": [],
   "source": [
    "new_features['d_xp_total'] = df[[col for col in df if col.endswith('xp')][:5]].sum(axis = 1) + 1\n",
    "new_features['r_xp_total'] = df[[col for col in df if col.endswith('xp')][5:]].sum(axis = 1) + 1"
   ]
  },
  {
   "cell_type": "code",
   "execution_count": 27,
   "metadata": {},
   "outputs": [],
   "source": [
    "new_features['d_xp_std'] = df[[col for col in df if col.endswith('xp')][:5]].std(axis = 1)\n",
    "new_features['r_xp_std'] = df[[col for col in df if col.endswith('xp')][5:]].std(axis = 1)"
   ]
  },
  {
   "cell_type": "code",
   "execution_count": 28,
   "metadata": {},
   "outputs": [],
   "source": [
    "new_features['xp_prop'] = new_features['d_xp_total'] / new_features['r_xp_total']"
   ]
  },
  {
   "cell_type": "code",
   "execution_count": 29,
   "metadata": {},
   "outputs": [],
   "source": [
    "new_features['d_obs_total'] = df[[col for col in df if col.endswith('obs_placed')][:5]].sum(axis = 1)\n",
    "new_features['r_obs_total'] = df[[col for col in df if col.endswith('obs_placed')][5:]].sum(axis = 1)"
   ]
  },
  {
   "cell_type": "code",
   "execution_count": 30,
   "metadata": {},
   "outputs": [],
   "source": [
    "r_towers_killed_columns = [col for col in df if col.endswith('towers_killed')][:5]\n",
    "d_towers_killed_columns = [col for col in df if col.endswith('towers_killed')][5:]\n",
    "new_features['d_towers'] = df[d_towers_killed_columns].sum(axis = 1)\n",
    "new_features['r_towers'] = df[r_towers_killed_columns].sum(axis = 1)\n",
    "new_features['towers_prop'] = new_features['d_towers'] - new_features['r_towers']"
   ]
  },
  {
   "cell_type": "code",
   "execution_count": 31,
   "metadata": {},
   "outputs": [],
   "source": [
    "r_level_columns = [col for col in df if col.endswith('level')][:5]\n",
    "d_level_columns = [col for col in df if col.endswith('level')][5:]\n",
    "new_features['r_max_level'] = df[r_level_columns].max(axis = 1)\n",
    "new_features['d_max_level'] = df[d_level_columns].max(axis = 1)"
   ]
  },
  {
   "cell_type": "code",
   "execution_count": 32,
   "metadata": {},
   "outputs": [],
   "source": [
    "new_features['r_mean_level'] = df[r_level_columns].mean(axis = 1)\n",
    "new_features['d_mean_level'] = df[d_level_columns].mean(axis = 1)"
   ]
  },
  {
   "cell_type": "code",
   "execution_count": 33,
   "metadata": {},
   "outputs": [],
   "source": [
    "new_features['r_min_level'] = df[r_level_columns].min(axis = 1)\n",
    "new_features['d_min_level'] = df[d_level_columns].min(axis = 1)"
   ]
  },
  {
   "cell_type": "code",
   "execution_count": 34,
   "metadata": {},
   "outputs": [],
   "source": [
    "r_roshans_killes_columns = [col for col in df if col.endswith('roshans_killed')][:5]\n",
    "d_roshans_killes_columns = [col for col in df if col.endswith('roshans_killed')][5:]\n",
    "new_features['r_roshans'] = df[r_roshans_killes_columns].sum(axis = 1)\n",
    "new_features['d_roshans'] = df[d_roshans_killes_columns].sum(axis = 1)"
   ]
  },
  {
   "cell_type": "code",
   "execution_count": 35,
   "metadata": {},
   "outputs": [],
   "source": [
    "r_x_columns = [col for col in df if col.endswith('x')][:5]\n",
    "d_x_columns = [col for col in df if col.endswith('x')][5:]"
   ]
  },
  {
   "cell_type": "code",
   "execution_count": 36,
   "metadata": {},
   "outputs": [],
   "source": [
    "new_features['r_x_mean'] = df[r_x_columns].mean(axis = 1)\n",
    "new_features['d_x_mean'] = df[d_x_columns].mean(axis = 1)\n",
    "new_features['r_x_max'] = df[r_x_columns].max(axis = 1)\n",
    "new_features['d_x_max'] = df[d_x_columns].max(axis = 1)\n",
    "new_features['r_x_min'] = df[r_x_columns].min(axis = 1)\n",
    "new_features['d_x_min'] = df[d_x_columns].min(axis = 1)"
   ]
  },
  {
   "cell_type": "code",
   "execution_count": 37,
   "metadata": {},
   "outputs": [],
   "source": [
    "r_y_columns = [col for col in df if col.endswith('y')][:5]\n",
    "d_y_columns = [col for col in df if col.endswith('y')][5:]"
   ]
  },
  {
   "cell_type": "code",
   "execution_count": 38,
   "metadata": {},
   "outputs": [],
   "source": [
    "new_features['r_y_mean'] = df[r_y_columns].mean(axis = 1)\n",
    "new_features['d_y_mean'] = df[d_y_columns].mean(axis = 1)"
   ]
  },
  {
   "cell_type": "code",
   "execution_count": 39,
   "metadata": {},
   "outputs": [],
   "source": [
    "new_features['r_y_max'] = df[r_y_columns].max(axis = 1)\n",
    "new_features['d_y_max'] = df[d_y_columns].max(axis = 1)\n",
    "new_features['r_y_min'] = df[r_y_columns].min(axis = 1)\n",
    "new_features['d_y_min'] = df[d_y_columns].min(axis = 1)"
   ]
  },
  {
   "cell_type": "code",
   "execution_count": null,
   "metadata": {},
   "outputs": [],
   "source": []
  },
  {
   "cell_type": "code",
   "execution_count": 40,
   "metadata": {},
   "outputs": [],
   "source": [
    "# coordinates of radiant start point\n",
    "r_x_min = df[['r1_x', 'r2_x','r3_x','r4_x','r5_x']].min(axis = 1)\n",
    "r_y_min = df[['r1_y', 'r2_y','r3_y','r4_y','r5_y']].min(axis = 1)"
   ]
  },
  {
   "cell_type": "code",
   "execution_count": 41,
   "metadata": {},
   "outputs": [],
   "source": [
    "r_x_max = df[['r1_x', 'r2_x','r3_x','r4_x','r5_x']].max(axis = 1)\n",
    "r_y_max = df[['r1_y', 'r2_y','r3_y','r4_y','r5_y']].max(axis = 1)"
   ]
  },
  {
   "cell_type": "code",
   "execution_count": 42,
   "metadata": {},
   "outputs": [],
   "source": [
    "new_features['r1_dist'] = np.sqrt((df['r1_y'] - r_y_min)**2 + (df['r1_x'] - r_x_min)**2)\n",
    "new_features['r2_dist'] = np.sqrt((df['r2_y'] - r_y_min)**2 + (df['r2_x'] - r_x_min)**2)\n",
    "new_features['r3_dist'] = np.sqrt((df['r3_y'] - r_y_min)**2 + (df['r3_x'] - r_x_min)**2)\n",
    "new_features['r4_dist'] = np.sqrt((df['r4_y'] - r_y_min)**2 + (df['r4_x'] - r_x_min)**2)\n",
    "new_features['r5_dist'] = np.sqrt((df['r5_y'] - r_y_min)**2 + (df['r5_x'] - r_x_min)**2)"
   ]
  },
  {
   "cell_type": "code",
   "execution_count": 43,
   "metadata": {},
   "outputs": [],
   "source": [
    "r_avg_dist = new_features[['r1_dist', 'r2_dist', 'r3_dist', 'r4_dist', 'r5_dist']].mean(axis = 1)"
   ]
  },
  {
   "cell_type": "code",
   "execution_count": 44,
   "metadata": {},
   "outputs": [],
   "source": [
    "new_features['d1_dist'] = np.sqrt((df['d1_y'] - r_y_max)**2 + (df['d1_x'] - r_x_max)**2)\n",
    "new_features['d2_dist'] = np.sqrt((df['d2_y'] - r_y_max)**2 + (df['d2_x'] - r_x_max)**2)\n",
    "new_features['d3_dist'] = np.sqrt((df['d3_y'] - r_y_max)**2 + (df['d3_x'] - r_x_max)**2)\n",
    "new_features['d4_dist'] = np.sqrt((df['d4_y'] - r_y_max)**2 + (df['d4_x'] - r_x_max)**2)\n",
    "new_features['d5_dist'] = np.sqrt((df['d5_y'] - r_y_max)**2 + (df['d5_x'] - r_x_max)**2)"
   ]
  },
  {
   "cell_type": "code",
   "execution_count": 45,
   "metadata": {},
   "outputs": [],
   "source": [
    "d_avg_dist = new_features[['d1_dist', 'd2_dist', 'd3_dist', 'd4_dist', 'd5_dist']].mean(axis = 1)"
   ]
  },
  {
   "cell_type": "code",
   "execution_count": 46,
   "metadata": {},
   "outputs": [],
   "source": [
    "new_features['dist_prop'] =  d_avg_dist"
   ]
  },
  {
   "cell_type": "code",
   "execution_count": null,
   "metadata": {},
   "outputs": [],
   "source": []
  },
  {
   "cell_type": "code",
   "execution_count": null,
   "metadata": {},
   "outputs": [],
   "source": []
  },
  {
   "cell_type": "code",
   "execution_count": 47,
   "metadata": {},
   "outputs": [
    {
     "data": {
      "text/html": [
       "<div>\n",
       "<style scoped>\n",
       "    .dataframe tbody tr th:only-of-type {\n",
       "        vertical-align: middle;\n",
       "    }\n",
       "\n",
       "    .dataframe tbody tr th {\n",
       "        vertical-align: top;\n",
       "    }\n",
       "\n",
       "    .dataframe thead th {\n",
       "        text-align: right;\n",
       "    }\n",
       "</style>\n",
       "<table border=\"1\" class=\"dataframe\">\n",
       "  <thead>\n",
       "    <tr style=\"text-align: right;\">\n",
       "      <th></th>\n",
       "      <th>game_time</th>\n",
       "      <th>game_mode</th>\n",
       "      <th>lobby_type</th>\n",
       "      <th>objectives_len</th>\n",
       "      <th>chat_len</th>\n",
       "      <th>r1_hero_id</th>\n",
       "      <th>r1_kills</th>\n",
       "      <th>r1_deaths</th>\n",
       "      <th>r1_assists</th>\n",
       "      <th>r1_denies</th>\n",
       "      <th>...</th>\n",
       "      <th>d5_stuns</th>\n",
       "      <th>d5_creeps_stacked</th>\n",
       "      <th>d5_camps_stacked</th>\n",
       "      <th>d5_rune_pickups</th>\n",
       "      <th>d5_firstblood_claimed</th>\n",
       "      <th>d5_teamfight_participation</th>\n",
       "      <th>d5_towers_killed</th>\n",
       "      <th>d5_roshans_killed</th>\n",
       "      <th>d5_obs_placed</th>\n",
       "      <th>d5_sen_placed</th>\n",
       "    </tr>\n",
       "    <tr>\n",
       "      <th>match_id_hash</th>\n",
       "      <th></th>\n",
       "      <th></th>\n",
       "      <th></th>\n",
       "      <th></th>\n",
       "      <th></th>\n",
       "      <th></th>\n",
       "      <th></th>\n",
       "      <th></th>\n",
       "      <th></th>\n",
       "      <th></th>\n",
       "      <th></th>\n",
       "      <th></th>\n",
       "      <th></th>\n",
       "      <th></th>\n",
       "      <th></th>\n",
       "      <th></th>\n",
       "      <th></th>\n",
       "      <th></th>\n",
       "      <th></th>\n",
       "      <th></th>\n",
       "      <th></th>\n",
       "    </tr>\n",
       "  </thead>\n",
       "  <tbody>\n",
       "    <tr>\n",
       "      <th>a400b8f29dece5f4d266f49f1ae2e98a</th>\n",
       "      <td>155</td>\n",
       "      <td>22</td>\n",
       "      <td>7</td>\n",
       "      <td>1</td>\n",
       "      <td>11</td>\n",
       "      <td>11</td>\n",
       "      <td>0</td>\n",
       "      <td>0</td>\n",
       "      <td>0</td>\n",
       "      <td>0</td>\n",
       "      <td>...</td>\n",
       "      <td>0.000000</td>\n",
       "      <td>0</td>\n",
       "      <td>0</td>\n",
       "      <td>0</td>\n",
       "      <td>0</td>\n",
       "      <td>0.00</td>\n",
       "      <td>0</td>\n",
       "      <td>0</td>\n",
       "      <td>0</td>\n",
       "      <td>0</td>\n",
       "    </tr>\n",
       "    <tr>\n",
       "      <th>b9c57c450ce74a2af79c9ce96fac144d</th>\n",
       "      <td>658</td>\n",
       "      <td>4</td>\n",
       "      <td>0</td>\n",
       "      <td>3</td>\n",
       "      <td>10</td>\n",
       "      <td>15</td>\n",
       "      <td>7</td>\n",
       "      <td>2</td>\n",
       "      <td>0</td>\n",
       "      <td>7</td>\n",
       "      <td>...</td>\n",
       "      <td>0.000000</td>\n",
       "      <td>0</td>\n",
       "      <td>0</td>\n",
       "      <td>0</td>\n",
       "      <td>0</td>\n",
       "      <td>0.00</td>\n",
       "      <td>0</td>\n",
       "      <td>0</td>\n",
       "      <td>0</td>\n",
       "      <td>0</td>\n",
       "    </tr>\n",
       "    <tr>\n",
       "      <th>6db558535151ea18ca70a6892197db41</th>\n",
       "      <td>21</td>\n",
       "      <td>23</td>\n",
       "      <td>0</td>\n",
       "      <td>0</td>\n",
       "      <td>0</td>\n",
       "      <td>101</td>\n",
       "      <td>0</td>\n",
       "      <td>0</td>\n",
       "      <td>0</td>\n",
       "      <td>0</td>\n",
       "      <td>...</td>\n",
       "      <td>0.000000</td>\n",
       "      <td>0</td>\n",
       "      <td>0</td>\n",
       "      <td>0</td>\n",
       "      <td>0</td>\n",
       "      <td>0.00</td>\n",
       "      <td>0</td>\n",
       "      <td>0</td>\n",
       "      <td>0</td>\n",
       "      <td>0</td>\n",
       "    </tr>\n",
       "    <tr>\n",
       "      <th>46a0ddce8f7ed2a8d9bd5edcbb925682</th>\n",
       "      <td>576</td>\n",
       "      <td>22</td>\n",
       "      <td>7</td>\n",
       "      <td>1</td>\n",
       "      <td>4</td>\n",
       "      <td>14</td>\n",
       "      <td>1</td>\n",
       "      <td>0</td>\n",
       "      <td>3</td>\n",
       "      <td>1</td>\n",
       "      <td>...</td>\n",
       "      <td>8.664527</td>\n",
       "      <td>3</td>\n",
       "      <td>1</td>\n",
       "      <td>3</td>\n",
       "      <td>0</td>\n",
       "      <td>0.00</td>\n",
       "      <td>0</td>\n",
       "      <td>0</td>\n",
       "      <td>2</td>\n",
       "      <td>0</td>\n",
       "    </tr>\n",
       "    <tr>\n",
       "      <th>b1b35ff97723d9b7ade1c9c3cf48f770</th>\n",
       "      <td>453</td>\n",
       "      <td>22</td>\n",
       "      <td>7</td>\n",
       "      <td>1</td>\n",
       "      <td>3</td>\n",
       "      <td>42</td>\n",
       "      <td>0</td>\n",
       "      <td>1</td>\n",
       "      <td>1</td>\n",
       "      <td>0</td>\n",
       "      <td>...</td>\n",
       "      <td>0.000000</td>\n",
       "      <td>2</td>\n",
       "      <td>1</td>\n",
       "      <td>2</td>\n",
       "      <td>0</td>\n",
       "      <td>0.25</td>\n",
       "      <td>0</td>\n",
       "      <td>0</td>\n",
       "      <td>0</td>\n",
       "      <td>0</td>\n",
       "    </tr>\n",
       "  </tbody>\n",
       "</table>\n",
       "<p>5 rows × 245 columns</p>\n",
       "</div>"
      ],
      "text/plain": [
       "                                  game_time  game_mode  lobby_type  \\\n",
       "match_id_hash                                                        \n",
       "a400b8f29dece5f4d266f49f1ae2e98a        155         22           7   \n",
       "b9c57c450ce74a2af79c9ce96fac144d        658          4           0   \n",
       "6db558535151ea18ca70a6892197db41         21         23           0   \n",
       "46a0ddce8f7ed2a8d9bd5edcbb925682        576         22           7   \n",
       "b1b35ff97723d9b7ade1c9c3cf48f770        453         22           7   \n",
       "\n",
       "                                  objectives_len  chat_len  r1_hero_id  \\\n",
       "match_id_hash                                                            \n",
       "a400b8f29dece5f4d266f49f1ae2e98a               1        11          11   \n",
       "b9c57c450ce74a2af79c9ce96fac144d               3        10          15   \n",
       "6db558535151ea18ca70a6892197db41               0         0         101   \n",
       "46a0ddce8f7ed2a8d9bd5edcbb925682               1         4          14   \n",
       "b1b35ff97723d9b7ade1c9c3cf48f770               1         3          42   \n",
       "\n",
       "                                  r1_kills  r1_deaths  r1_assists  r1_denies  \\\n",
       "match_id_hash                                                                  \n",
       "a400b8f29dece5f4d266f49f1ae2e98a         0          0           0          0   \n",
       "b9c57c450ce74a2af79c9ce96fac144d         7          2           0          7   \n",
       "6db558535151ea18ca70a6892197db41         0          0           0          0   \n",
       "46a0ddce8f7ed2a8d9bd5edcbb925682         1          0           3          1   \n",
       "b1b35ff97723d9b7ade1c9c3cf48f770         0          1           1          0   \n",
       "\n",
       "                                  ...  d5_stuns  d5_creeps_stacked  \\\n",
       "match_id_hash                     ...                                \n",
       "a400b8f29dece5f4d266f49f1ae2e98a  ...  0.000000                  0   \n",
       "b9c57c450ce74a2af79c9ce96fac144d  ...  0.000000                  0   \n",
       "6db558535151ea18ca70a6892197db41  ...  0.000000                  0   \n",
       "46a0ddce8f7ed2a8d9bd5edcbb925682  ...  8.664527                  3   \n",
       "b1b35ff97723d9b7ade1c9c3cf48f770  ...  0.000000                  2   \n",
       "\n",
       "                                  d5_camps_stacked  d5_rune_pickups  \\\n",
       "match_id_hash                                                         \n",
       "a400b8f29dece5f4d266f49f1ae2e98a                 0                0   \n",
       "b9c57c450ce74a2af79c9ce96fac144d                 0                0   \n",
       "6db558535151ea18ca70a6892197db41                 0                0   \n",
       "46a0ddce8f7ed2a8d9bd5edcbb925682                 1                3   \n",
       "b1b35ff97723d9b7ade1c9c3cf48f770                 1                2   \n",
       "\n",
       "                                  d5_firstblood_claimed  \\\n",
       "match_id_hash                                             \n",
       "a400b8f29dece5f4d266f49f1ae2e98a                      0   \n",
       "b9c57c450ce74a2af79c9ce96fac144d                      0   \n",
       "6db558535151ea18ca70a6892197db41                      0   \n",
       "46a0ddce8f7ed2a8d9bd5edcbb925682                      0   \n",
       "b1b35ff97723d9b7ade1c9c3cf48f770                      0   \n",
       "\n",
       "                                  d5_teamfight_participation  \\\n",
       "match_id_hash                                                  \n",
       "a400b8f29dece5f4d266f49f1ae2e98a                        0.00   \n",
       "b9c57c450ce74a2af79c9ce96fac144d                        0.00   \n",
       "6db558535151ea18ca70a6892197db41                        0.00   \n",
       "46a0ddce8f7ed2a8d9bd5edcbb925682                        0.00   \n",
       "b1b35ff97723d9b7ade1c9c3cf48f770                        0.25   \n",
       "\n",
       "                                  d5_towers_killed  d5_roshans_killed  \\\n",
       "match_id_hash                                                           \n",
       "a400b8f29dece5f4d266f49f1ae2e98a                 0                  0   \n",
       "b9c57c450ce74a2af79c9ce96fac144d                 0                  0   \n",
       "6db558535151ea18ca70a6892197db41                 0                  0   \n",
       "46a0ddce8f7ed2a8d9bd5edcbb925682                 0                  0   \n",
       "b1b35ff97723d9b7ade1c9c3cf48f770                 0                  0   \n",
       "\n",
       "                                  d5_obs_placed  d5_sen_placed  \n",
       "match_id_hash                                                   \n",
       "a400b8f29dece5f4d266f49f1ae2e98a              0              0  \n",
       "b9c57c450ce74a2af79c9ce96fac144d              0              0  \n",
       "6db558535151ea18ca70a6892197db41              0              0  \n",
       "46a0ddce8f7ed2a8d9bd5edcbb925682              2              0  \n",
       "b1b35ff97723d9b7ade1c9c3cf48f770              0              0  \n",
       "\n",
       "[5 rows x 245 columns]"
      ]
     },
     "execution_count": 47,
     "metadata": {},
     "output_type": "execute_result"
    }
   ],
   "source": [
    "df.head()"
   ]
  },
  {
   "cell_type": "code",
   "execution_count": 48,
   "metadata": {},
   "outputs": [],
   "source": [
    "#columns = df.columns[-53:]"
   ]
  },
  {
   "cell_type": "code",
   "execution_count": 49,
   "metadata": {},
   "outputs": [],
   "source": [
    "new_features = new_features.drop(['r1_dist', 'r2_dist', 'r3_dist','r4_dist','r5_dist', 'd1_dist', 'd2_dist', 'd3_dist','d4_dist','d5_dist'], axis = 1)"
   ]
  },
  {
   "cell_type": "code",
   "execution_count": 50,
   "metadata": {},
   "outputs": [],
   "source": [
    "X_train = new_features[:split_index]"
   ]
  },
  {
   "cell_type": "code",
   "execution_count": 51,
   "metadata": {},
   "outputs": [],
   "source": [
    "X_test = new_features[split_index:]"
   ]
  },
  {
   "cell_type": "code",
   "execution_count": 52,
   "metadata": {},
   "outputs": [],
   "source": [
    "y_train = df_targets['radiant_win'] * 1"
   ]
  },
  {
   "cell_type": "code",
   "execution_count": 53,
   "metadata": {},
   "outputs": [
    {
     "data": {
      "text/plain": [
       "((39675, 51), (39675,))"
      ]
     },
     "execution_count": 53,
     "metadata": {},
     "output_type": "execute_result"
    }
   ],
   "source": [
    "X_train.shape, y_train.shape"
   ]
  },
  {
   "cell_type": "code",
   "execution_count": 54,
   "metadata": {},
   "outputs": [],
   "source": [
    "rf = RandomForestClassifier(n_estimators=100, max_depth=15, min_samples_leaf = 5, random_state=17)"
   ]
  },
  {
   "cell_type": "code",
   "execution_count": 55,
   "metadata": {},
   "outputs": [
    {
     "data": {
      "text/plain": [
       "RandomForestClassifier(bootstrap=True, class_weight=None, criterion='gini',\n",
       "                       max_depth=15, max_features='auto', max_leaf_nodes=None,\n",
       "                       min_impurity_decrease=0.0, min_impurity_split=None,\n",
       "                       min_samples_leaf=5, min_samples_split=2,\n",
       "                       min_weight_fraction_leaf=0.0, n_estimators=100,\n",
       "                       n_jobs=None, oob_score=False, random_state=17, verbose=0,\n",
       "                       warm_start=False)"
      ]
     },
     "execution_count": 55,
     "metadata": {},
     "output_type": "execute_result"
    }
   ],
   "source": [
    "rf.fit(X_train, y_train)"
   ]
  },
  {
   "cell_type": "code",
   "execution_count": 56,
   "metadata": {},
   "outputs": [
    {
     "data": {
      "text/plain": [
       "0.8180850738287315"
      ]
     },
     "execution_count": 56,
     "metadata": {},
     "output_type": "execute_result"
    }
   ],
   "source": [
    "cross_val_score(rf, X_train, y_train, cv = 5, n_jobs = -1, scoring='roc_auc').mean()"
   ]
  },
  {
   "cell_type": "code",
   "execution_count": null,
   "metadata": {},
   "outputs": [],
   "source": [
    "# 0.8180850738287315 - xp_proportion"
   ]
  },
  {
   "cell_type": "code",
   "execution_count": 57,
   "metadata": {},
   "outputs": [],
   "source": [
    "#0.8138925440421548 - d_dist"
   ]
  },
  {
   "cell_type": "code",
   "execution_count": 58,
   "metadata": {},
   "outputs": [],
   "source": [
    "# 0.8124434204241302"
   ]
  },
  {
   "cell_type": "code",
   "execution_count": 59,
   "metadata": {},
   "outputs": [
    {
     "ename": "NameError",
     "evalue": "name 'columns' is not defined",
     "output_type": "error",
     "traceback": [
      "\u001b[1;31m---------------------------------------------------------------------------\u001b[0m",
      "\u001b[1;31mNameError\u001b[0m                                 Traceback (most recent call last)",
      "\u001b[1;32m<ipython-input-59-8e7b9895361f>\u001b[0m in \u001b[0;36m<module>\u001b[1;34m\u001b[0m\n\u001b[1;32m----> 1\u001b[1;33m \u001b[0mcolumns\u001b[0m\u001b[1;33m\u001b[0m\u001b[1;33m\u001b[0m\u001b[0m\n\u001b[0m",
      "\u001b[1;31mNameError\u001b[0m: name 'columns' is not defined"
     ]
    }
   ],
   "source": [
    "columns"
   ]
  },
  {
   "cell_type": "code",
   "execution_count": null,
   "metadata": {},
   "outputs": [],
   "source": [
    "y_test_pred= rf.predict_proba(X_test)[:, 1]"
   ]
  },
  {
   "cell_type": "code",
   "execution_count": null,
   "metadata": {},
   "outputs": [],
   "source": [
    "df_submission = pd.DataFrame({'radiant_win_prob': y_test_pred}, \n",
    "                                 index=df_test_features.index)"
   ]
  },
  {
   "cell_type": "code",
   "execution_count": null,
   "metadata": {},
   "outputs": [],
   "source": [
    "df_submission.to_csv('first_pred_all_data.csv')"
   ]
  },
  {
   "cell_type": "code",
   "execution_count": null,
   "metadata": {},
   "outputs": [],
   "source": [
    "tree_params = {'max_depth': range(1,20), 'max_features': range(4,19)}"
   ]
  },
  {
   "cell_type": "code",
   "execution_count": null,
   "metadata": {},
   "outputs": [],
   "source": [
    "tree_grid = GridSearchCV(rf, tree_params,\n",
    "cv=5, n_jobs=-1,\n",
    "verbose=True)"
   ]
  },
  {
   "cell_type": "code",
   "execution_count": null,
   "metadata": {},
   "outputs": [],
   "source": [
    "tree_params"
   ]
  },
  {
   "cell_type": "code",
   "execution_count": null,
   "metadata": {},
   "outputs": [],
   "source": [
    "tree_grid = GridSearchCV(rf, tree_params,\n",
    "cv=5, n_jobs=-1,\n",
    "verbose=True)"
   ]
  },
  {
   "cell_type": "code",
   "execution_count": null,
   "metadata": {},
   "outputs": [],
   "source": [
    "tree_grid.fit(X_train, y_train)"
   ]
  },
  {
   "cell_type": "code",
   "execution_count": null,
   "metadata": {},
   "outputs": [],
   "source": [
    "tree_grid.best_estimator_.fit(X_train, y_train)"
   ]
  },
  {
   "cell_type": "code",
   "execution_count": null,
   "metadata": {},
   "outputs": [],
   "source": [
    "cross_val_score(tree_grid.best_estimator_, X_train, y_train, cv = 5, n_jobs = -1, scoring='roc_auc').mean()"
   ]
  },
  {
   "cell_type": "code",
   "execution_count": null,
   "metadata": {},
   "outputs": [],
   "source": [
    "tree_grid.best_params_"
   ]
  },
  {
   "cell_type": "code",
   "execution_count": null,
   "metadata": {},
   "outputs": [],
   "source": []
  }
 ],
 "metadata": {
  "kernelspec": {
   "display_name": "Python 3",
   "language": "python",
   "name": "python3"
  },
  "language_info": {
   "codemirror_mode": {
    "name": "ipython",
    "version": 3
   },
   "file_extension": ".py",
   "mimetype": "text/x-python",
   "name": "python",
   "nbconvert_exporter": "python",
   "pygments_lexer": "ipython3",
   "version": "3.7.3"
  }
 },
 "nbformat": 4,
 "nbformat_minor": 2
}
