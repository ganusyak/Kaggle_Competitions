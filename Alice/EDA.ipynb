{
 "cells": [
  {
   "cell_type": "code",
   "execution_count": 1,
   "metadata": {},
   "outputs": [],
   "source": [
    "\n",
    "from matplotlib import pyplot as plt\n",
    "import seaborn as sns\n",
    "\n",
    "import pickle\n",
    "import numpy as np\n",
    "import pandas as pd\n",
    "from scipy.sparse import csr_matrix\n",
    "from scipy.sparse import hstack\n",
    "from sklearn.preprocessing import StandardScaler\n",
    "from sklearn.feature_extraction.text import CountVectorizer\n",
    "from sklearn.metrics import roc_auc_score\n",
    "from sklearn.linear_model import LogisticRegression"
   ]
  },
  {
   "cell_type": "code",
   "execution_count": null,
   "metadata": {},
   "outputs": [],
   "source": [
    "times = ['time%s' % i for i in range(1, 11)]\n",
    "\n",
    "train_df = pd.read_csv('train_sessions.csv',\n",
    "                       index_col='session_id', parse_dates=times)"
   ]
  },
  {
   "cell_type": "code",
   "execution_count": null,
   "metadata": {},
   "outputs": [],
   "source": [
    "train_df.head()"
   ]
  },
  {
   "cell_type": "code",
   "execution_count": null,
   "metadata": {},
   "outputs": [],
   "source": [
    "train_df['year'] = train_df['time1'].apply(lambda ts : ts.year)"
   ]
  },
  {
   "cell_type": "code",
   "execution_count": null,
   "metadata": {},
   "outputs": [],
   "source": [
    "train_df['month'] = train_df['time1'].apply(lambda ts : ts.month)"
   ]
  },
  {
   "cell_type": "code",
   "execution_count": null,
   "metadata": {},
   "outputs": [],
   "source": [
    "train_df['week'] = train_df['time1'].apply(lambda ts : ts.week)"
   ]
  },
  {
   "cell_type": "code",
   "execution_count": null,
   "metadata": {},
   "outputs": [],
   "source": [
    "train_df['day'] = train_df['time1'].apply(lambda ts : ts.day)"
   ]
  },
  {
   "cell_type": "code",
   "execution_count": null,
   "metadata": {},
   "outputs": [],
   "source": [
    "train_df['dow'] = train_df['time1'].apply(lambda ts : ts.date().weekday())"
   ]
  },
  {
   "cell_type": "code",
   "execution_count": null,
   "metadata": {},
   "outputs": [],
   "source": [
    "train_df['hour'] = train_df['time1'].apply(lambda ts : ts.hour)\n",
    "train_df['sesslen'] = (train_df[times].max(axis = 1) - train_df[times].min(axis = 1)).apply(lambda ts: round(ts.seconds / 60))"
   ]
  },
  {
   "cell_type": "code",
   "execution_count": null,
   "metadata": {},
   "outputs": [],
   "source": [
    "train_df['num_urls'] = train_df[times].count(axis = 1)"
   ]
  },
  {
   "cell_type": "code",
   "execution_count": null,
   "metadata": {},
   "outputs": [],
   "source": [
    "train_df['active_days'] = (train_df['dow'].apply(lambda x : x in [0, 1, 3, 4]) ) * 1"
   ]
  },
  {
   "cell_type": "code",
   "execution_count": null,
   "metadata": {},
   "outputs": [],
   "source": [
    "train_df['session_lenght'] = round((train_df[times].max(axis = 1) - train_df[times].min(axis = 1)).apply(lambda ts: ts.seconds)/60)"
   ]
  },
  {
   "cell_type": "code",
   "execution_count": null,
   "metadata": {},
   "outputs": [],
   "source": [
    "train_df['active_hours'] = (train_df['hour'].apply(lambda x : x in [12, 13, 16, 17, 18]) ) * 1"
   ]
  },
  {
   "cell_type": "code",
   "execution_count": null,
   "metadata": {},
   "outputs": [],
   "source": [
    "train_df['sub10'] = (train_df['num_urls'] < 10) * 1"
   ]
  },
  {
   "cell_type": "code",
   "execution_count": null,
   "metadata": {},
   "outputs": [],
   "source": [
    "df = train_df"
   ]
  },
  {
   "cell_type": "code",
   "execution_count": null,
   "metadata": {},
   "outputs": [],
   "source": [
    "sns.countplot(data = df, x = 'year')"
   ]
  },
  {
   "cell_type": "code",
   "execution_count": null,
   "metadata": {},
   "outputs": [],
   "source": [
    "plt.figure(figsize=(20, 6))\n",
    "plt.subplot(1, 3, 1)\n",
    "sns.countplot(data = df, x = 'year')\n",
    "plt.subplot(1, 3, 2)\n",
    "plt.title('target = 1')\n",
    "sns.countplot(data = df[df['target'] == 1], x = 'year')\n",
    "plt.subplot(1, 3, 3)\n",
    "sns.countplot(data = df[df['target'] == 0], x = 'year')"
   ]
  },
  {
   "cell_type": "code",
   "execution_count": null,
   "metadata": {},
   "outputs": [],
   "source": [
    "plt.figure(figsize=(20, 6))\n",
    "plt.subplot(1, 2, 1)\n",
    "plt.title('target = 1')\n",
    "sns.countplot(data = df[df['target'] == 1], x = 'hour')\n",
    "plt.subplot(1, 2, 2)\n",
    "plt.title('target = 0')\n",
    "sns.countplot(data = df[df['target'] == 0], x = 'hour')\n"
   ]
  },
  {
   "cell_type": "code",
   "execution_count": null,
   "metadata": {},
   "outputs": [],
   "source": [
    "df.head()"
   ]
  },
  {
   "cell_type": "code",
   "execution_count": null,
   "metadata": {},
   "outputs": [],
   "source": [
    "plt.figure(figsize=(20, 6))\n",
    "plt.subplot(1, 2, 1)\n",
    "plt.title('target = 1')\n",
    "sns.countplot(data = df[df['target'] == 1], x = 'month')\n",
    "plt.subplot(1, 2, 2)\n",
    "plt.title('target = 0')\n",
    "sns.countplot(data = df[df['target'] == 0], x = 'month')"
   ]
  },
  {
   "cell_type": "code",
   "execution_count": null,
   "metadata": {},
   "outputs": [],
   "source": [
    "plt.figure(figsize=(20, 6))\n",
    "plt.subplot(1, 2, 1)\n",
    "plt.title('target = 1')\n",
    "sns.countplot(data = df[df['target'] == 1], x = 'dow')\n",
    "plt.subplot(1, 2, 2)\n",
    "plt.title('target = 0')\n",
    "sns.countplot(data = df[df['target'] == 0], x = 'dow')"
   ]
  },
  {
   "cell_type": "code",
   "execution_count": null,
   "metadata": {},
   "outputs": [],
   "source": []
  },
  {
   "cell_type": "code",
   "execution_count": null,
   "metadata": {},
   "outputs": [],
   "source": [
    "plt.figure(figsize=(20, 6))\n",
    "plt.subplot(1, 2, 1)\n",
    "plt.title('target = 1')\n",
    "sns.countplot(data = df[df['sesslen'] == 1], x = 'dow')\n",
    "plt.subplot(1, 2, 2)\n",
    "plt.title('target = 0')\n",
    "sns.countplot(data = df[df['sesslen'] == 0], x = 'dow')"
   ]
  },
  {
   "cell_type": "code",
   "execution_count": null,
   "metadata": {},
   "outputs": [],
   "source": [
    "plt.figure(figsize=(20, 6))\n",
    "plt.subplot(1, 2, 1)\n",
    "plt.title('target = 1')\n",
    "sns.countplot(data = df[df['target'] == 1], x = 'num_urls')\n",
    "plt.subplot(1, 2, 2)\n",
    "plt.title('target = 0')\n",
    "sns.countplot(data = df[df['target'] == 0], x = 'num_urls')"
   ]
  },
  {
   "cell_type": "code",
   "execution_count": null,
   "metadata": {},
   "outputs": [],
   "source": [
    "plt.figure(figsize=(20, 6))\n",
    "plt.subplot(1, 2, 1)\n",
    "plt.title('target = 1')\n",
    "sns.countplot(data = df[df['target'] == 1], x = 'sub10')\n",
    "plt.subplot(1, 2, 2)\n",
    "plt.title('target = 0')\n",
    "sns.countplot(data = df[df['target'] == 0], x = 'sub10')"
   ]
  },
  {
   "cell_type": "code",
   "execution_count": null,
   "metadata": {},
   "outputs": [],
   "source": [
    "plt.figure(figsize=(20, 6))\n",
    "plt.subplot(1, 2, 1)\n",
    "plt.title('target = 1')\n",
    "sns.countplot(data = df[df['target'] == 1], x = 'active_days')\n",
    "plt.subplot(1, 2, 2)\n",
    "plt.title('target = 0')\n",
    "sns.countplot(data = df[df['target'] == 0], x = 'active_days')"
   ]
  },
  {
   "cell_type": "code",
   "execution_count": null,
   "metadata": {},
   "outputs": [],
   "source": [
    "plt.figure(figsize=(20, 6))\n",
    "plt.subplot(1, 2, 1)\n",
    "plt.title('target = 1')\n",
    "sns.countplot(data = df[df['target'] == 1], x = 'active_hours')\n",
    "plt.subplot(1, 2, 2)\n",
    "plt.title('target = 0')\n",
    "sns.countplot(data = df[df['target'] == 0], x = 'active_hours')"
   ]
  },
  {
   "cell_type": "code",
   "execution_count": null,
   "metadata": {},
   "outputs": [],
   "source": [
    "plt.figure(figsize=(20, 6))\n",
    "plt.subplot(1, 2, 1)\n",
    "plt.title('target = 1')\n",
    "sns.countplot(data = df[df['target'] == 1], x = 'sesslen')\n",
    "plt.subplot(1, 2, 2)\n",
    "plt.title('target = 0')\n",
    "sns.countplot(data = df[df['target'] == 0], x = 'sesslen')"
   ]
  },
  {
   "cell_type": "code",
   "execution_count": null,
   "metadata": {},
   "outputs": [],
   "source": [
    "df.head()"
   ]
  },
  {
   "cell_type": "code",
   "execution_count": null,
   "metadata": {},
   "outputs": [],
   "source": [
    "df.head()"
   ]
  },
  {
   "cell_type": "code",
   "execution_count": null,
   "metadata": {},
   "outputs": [],
   "source": []
  }
 ],
 "metadata": {
  "kernelspec": {
   "display_name": "Python 3",
   "language": "python",
   "name": "python3"
  },
  "language_info": {
   "codemirror_mode": {
    "name": "ipython",
    "version": 3
   },
   "file_extension": ".py",
   "mimetype": "text/x-python",
   "name": "python",
   "nbconvert_exporter": "python",
   "pygments_lexer": "ipython3",
   "version": "3.7.3"
  }
 },
 "nbformat": 4,
 "nbformat_minor": 2
}
