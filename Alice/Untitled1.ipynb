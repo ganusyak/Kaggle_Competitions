{
 "cells": [
  {
   "cell_type": "code",
   "execution_count": 1,
   "metadata": {},
   "outputs": [],
   "source": [
    "import pickle\n",
    "import numpy as np\n",
    "import pandas as pd\n",
    "\n",
    "from scipy.sparse import csr_matrix, hstack\n",
    "from sklearn.feature_extraction.text import TfidfVectorizer, CountVectorizer\n",
    "from sklearn.preprocessing import StandardScaler, MinMaxScaler\n",
    "from sklearn.model_selection import TimeSeriesSplit, cross_val_score, GridSearchCV\n",
    "from sklearn.metrics import roc_auc_score\n",
    "from sklearn.linear_model import LogisticRegression\n",
    "\n",
    "from matplotlib import pyplot as plt\n",
    "%matplotlib inline\n",
    "import seaborn as sns\n",
    "sns.set()"
   ]
  },
  {
   "cell_type": "code",
   "execution_count": 2,
   "metadata": {},
   "outputs": [
    {
     "data": {
      "text/plain": [
       "((253561, 21), (82797, 20), (336358, 21))"
      ]
     },
     "execution_count": 2,
     "metadata": {},
     "output_type": "execute_result"
    }
   ],
   "source": [
    "times = ['time%s' % i for i in range(1, 11)]\n",
    "sites = ['site%s' % i for i in range(1, 11)]\n",
    "\n",
    "train = pd.read_csv('train_sessions.csv', parse_dates = times, index_col='session_id')\n",
    "test = pd.read_csv('test_sessions.csv', parse_dates = times, index_col='session_id')\n",
    "\n",
    "train.sort_values(by='time1', inplace=True)\n",
    "\n",
    "idx = train.shape[0]\n",
    "data = pd.concat([train, test], sort=False) # leave train.target for eda\n",
    "\n",
    "train.shape, test.shape, data.shape"
   ]
  },
  {
   "cell_type": "code",
   "execution_count": 3,
   "metadata": {},
   "outputs": [
    {
     "data": {
      "text/plain": [
       "<336358x50000 sparse matrix of type '<class 'numpy.float64'>'\n",
       "\twith 4433718 stored elements in Compressed Sparse Row format>"
      ]
     },
     "execution_count": 3,
     "metadata": {},
     "output_type": "execute_result"
    }
   ],
   "source": [
    "data[sites] = data[sites].fillna(0).astype(np.uint16) # float->int (55.0 -> 55)\n",
    "\n",
    "# for each row combine site_ids into one string separated by space\n",
    "data['words'] = data[sites].astype(np.str).apply(' '.join, axis=1)\n",
    "\n",
    "#words = CountVectorizer(max_features=50000, ngram_range=(1, 3)).fit_transform(data['words'])\n",
    "words = TfidfVectorizer(max_features=50000, ngram_range=(1, 3)).fit_transform(data['words'])\n",
    "\n",
    "data.drop(['words'], inplace=True, axis=1)\n",
    "words"
   ]
  },
  {
   "cell_type": "code",
   "execution_count": 4,
   "metadata": {},
   "outputs": [
    {
     "data": {
      "text/plain": [
       "(Timestamp('2013-01-12 08:05:57'),\n",
       " Timestamp('2014-04-30 23:39:53'),\n",
       " Timestamp('2014-05-01 17:14:03'),\n",
       " Timestamp('2014-12-05 23:26:53'))"
      ]
     },
     "execution_count": 4,
     "metadata": {},
     "output_type": "execute_result"
    }
   ],
   "source": [
    "model = LogisticRegression(random_state=17, solver='liblinear')\n",
    "time_split = TimeSeriesSplit(n_splits=10)\n",
    "train.time1.min(), train.time1.max(), test.time1.min(), test.time1.max()"
   ]
  },
  {
   "cell_type": "code",
   "execution_count": 5,
   "metadata": {},
   "outputs": [
    {
     "data": {
      "text/plain": [
       "(array([0.81423928, 0.65396238, 0.87473037, 0.93492792, 0.84785245,\n",
       "        0.88841551, 0.92458996, 0.87527804, 0.92858727, 0.92143771]),\n",
       " 0.866402090529809)"
      ]
     },
     "execution_count": 5,
     "metadata": {},
     "output_type": "execute_result"
    }
   ],
   "source": [
    "X_train = words[:idx]\n",
    "y_train = train.target\n",
    "\n",
    "cv_scores = cross_val_score(model, X_train, y_train, cv=time_split, scoring='roc_auc')\n",
    "cv_scores, cv_scores.mean()\n",
    "\n",
    "# 0.8670500571969433 CountVectorizer\n",
    "# 0.8664051910501502 TfidfVectorizer"
   ]
  },
  {
   "cell_type": "code",
   "execution_count": 6,
   "metadata": {},
   "outputs": [],
   "source": [
    "data['min'] = data[times].min(axis=1)\n",
    "data['max'] = data[times].max(axis=1)\n",
    "data['seconds'] = ((data['max'] - data['min']) / np.timedelta64(1, 's'))\n",
    "data['minutes'] = ((data['max'] - data['min']) / np.timedelta64(1, 'm')).round(2)\n",
    "data.drop(['min','max'], inplace=True, axis=1)\n",
    "\n",
    "data['month'] = data['time1'].apply(lambda ts: ts.month+(12*(ts.year-2013))).astype(np.int8)\n",
    "data['yyyymm'] = data['time1'].apply(lambda ts: 100 * ts.year + ts.month).astype(np.int32) # wtf! why this works?\n",
    "data['mm'] = data['time1'].apply(lambda ts: ts.month).astype(np.int8)\n",
    "data['yyyy'] = data['time1'].apply(lambda ts: ts.year).astype(np.int8)\n",
    "\n",
    "data['dayofweek'] = data['time1'].apply(lambda ts: ts.dayofweek).astype(np.int8)\n",
    "data['weekend'] = data['time1'].apply(lambda ts: ts.dayofweek > 5).astype(np.int8)\n",
    "\n",
    "data['hour'] = data['time1'].apply(lambda ts: ts.hour).astype(np.int8)"
   ]
  },
  {
   "cell_type": "code",
   "execution_count": 7,
   "metadata": {},
   "outputs": [
    {
     "data": {
      "text/plain": [
       "session_id\n",
       "21669    2013-01-12 08:05:57\n",
       "54843    2013-01-12 08:37:23\n",
       "77292    2013-01-12 08:50:13\n",
       "114021   2013-01-12 08:50:17\n",
       "146670   2013-01-12 08:50:20\n",
       "242171   2013-01-12 08:50:22\n",
       "57157    2013-01-12 08:50:25\n",
       "240201   2013-01-12 08:50:28\n",
       "210686   2013-01-12 08:50:31\n",
       "98804    2013-01-12 08:50:37\n",
       "113494   2013-01-12 08:51:05\n",
       "223837   2013-01-12 08:51:36\n",
       "145475   2013-01-12 08:52:27\n",
       "186633   2013-01-12 08:53:09\n",
       "45193    2013-01-12 08:53:25\n",
       "102930   2013-01-12 08:55:10\n",
       "15789    2013-01-12 08:59:34\n",
       "205868   2013-01-12 09:10:04\n",
       "21102    2013-01-12 09:14:59\n",
       "193454   2013-01-12 09:15:38\n",
       "252924   2013-01-12 09:20:03\n",
       "12713    2013-01-12 09:23:33\n",
       "182016   2013-01-12 09:25:03\n",
       "55750    2013-01-12 09:37:32\n",
       "237109   2013-01-12 09:56:03\n",
       "120126   2013-01-12 10:02:11\n",
       "140105   2013-01-12 10:02:46\n",
       "129357   2013-01-12 10:05:08\n",
       "136699   2013-01-12 10:05:32\n",
       "113189   2013-01-12 10:06:19\n",
       "                 ...        \n",
       "82768    2014-05-16 15:46:49\n",
       "82769    2014-10-02 13:29:11\n",
       "82770    2014-05-28 17:01:59\n",
       "82771    2014-11-02 10:51:02\n",
       "82772    2014-06-01 14:05:35\n",
       "82773    2014-06-02 15:53:01\n",
       "82774    2014-10-02 08:34:05\n",
       "82775    2014-07-03 10:47:05\n",
       "82776    2014-05-03 09:33:35\n",
       "82777    2014-05-22 10:22:08\n",
       "82778    2014-06-01 15:59:21\n",
       "82779    2014-05-19 14:09:38\n",
       "82780    2014-07-05 08:34:08\n",
       "82781    2014-07-04 17:05:53\n",
       "82782    2014-08-02 10:11:06\n",
       "82783    2014-05-25 16:43:32\n",
       "82784    2014-05-02 11:03:37\n",
       "82785    2014-06-02 12:25:22\n",
       "82786    2014-07-04 10:38:09\n",
       "82787    2014-11-02 08:44:53\n",
       "82788    2014-12-05 12:10:09\n",
       "82789    2014-08-04 17:03:46\n",
       "82790    2014-10-02 13:32:46\n",
       "82791    2014-05-03 15:59:57\n",
       "82792    2014-05-27 12:37:09\n",
       "82793    2014-10-02 18:20:09\n",
       "82794    2014-05-26 14:16:40\n",
       "82795    2014-05-02 11:21:56\n",
       "82796    2014-05-03 10:05:25\n",
       "82797    2014-11-02 10:46:57\n",
       "Length: 336358, dtype: datetime64[ns]"
      ]
     },
     "execution_count": 7,
     "metadata": {},
     "output_type": "execute_result"
    }
   ],
   "source": [
    "data[times].min(axis=1)"
   ]
  },
  {
   "cell_type": "code",
   "execution_count": null,
   "metadata": {},
   "outputs": [],
   "source": []
  }
 ],
 "metadata": {
  "kernelspec": {
   "display_name": "Python 3",
   "language": "python",
   "name": "python3"
  },
  "language_info": {
   "codemirror_mode": {
    "name": "ipython",
    "version": 3
   },
   "file_extension": ".py",
   "mimetype": "text/x-python",
   "name": "python",
   "nbconvert_exporter": "python",
   "pygments_lexer": "ipython3",
   "version": "3.7.3"
  }
 },
 "nbformat": 4,
 "nbformat_minor": 2
}
