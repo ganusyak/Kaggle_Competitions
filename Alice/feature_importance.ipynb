{
 "cells": [
  {
   "cell_type": "code",
   "execution_count": 1,
   "metadata": {},
   "outputs": [],
   "source": [
    "import os\n",
    "import pickle\n",
    "import numpy as np\n",
    "import pandas as pd\n",
    "from scipy.sparse import hstack\n",
    "# !pip install eli5\n",
    "import eli5\n",
    "from sklearn.feature_extraction.text import TfidfVectorizer\n",
    "from sklearn.preprocessing import StandardScaler\n",
    "from sklearn.model_selection import TimeSeriesSplit, cross_val_score, GridSearchCV\n",
    "from sklearn.metrics import roc_auc_score\n",
    "from sklearn.linear_model import LogisticRegression\n",
    "from matplotlib import pyplot as plt\n",
    "import seaborn as sns\n",
    "from IPython.display import display_html"
   ]
  },
  {
   "cell_type": "code",
   "execution_count": 2,
   "metadata": {},
   "outputs": [],
   "source": [
    "PATH_TO_DATA = ''\n",
    "SEED = 17"
   ]
  },
  {
   "cell_type": "code",
   "execution_count": 3,
   "metadata": {},
   "outputs": [],
   "source": [
    "def prepare_sparse_features(path_to_train, path_to_test, path_to_site_dict,\n",
    "                           vectorizer_params):\n",
    "    times = ['time%s' % i for i in range(1, 11)]\n",
    "    train_df = pd.read_csv(path_to_train,\n",
    "                       index_col='session_id', parse_dates=times)\n",
    "    test_df = pd.read_csv(path_to_test,\n",
    "                      index_col='session_id', parse_dates=times)\n",
    "\n",
    "    # Sort the data by time\n",
    "    train_df = train_df.sort_values(by='time1')\n",
    "    \n",
    "    # read site -> id mapping provided by competition organizers \n",
    "    with open(path_to_site_dict, 'rb') as f:\n",
    "        site2id = pickle.load(f)\n",
    "    # create an inverse id _> site mapping\n",
    "    id2site = {v:k for (k, v) in site2id.items()}\n",
    "    # we treat site with id 0 as \"unknown\"\n",
    "    id2site[0] = 'unknown'\n",
    "    \n",
    "    # Transform data into format which can be fed into TfidfVectorizer\n",
    "    # This time we prefer to represent sessions with site names, not site ids. \n",
    "    # It's less efficient but thus it'll be more convenient to interpret model weights.\n",
    "    sites = ['site%s' % i for i in range(1, 11)]\n",
    "    train_sessions = train_df[sites].fillna(0).astype('int').apply(lambda row: \n",
    "                                                     ' '.join([id2site[i] for i in row]), axis=1).tolist()\n",
    "    test_sessions = test_df[sites].fillna(0).astype('int').apply(lambda row: \n",
    "                                                     ' '.join([id2site[i] for i in row]), axis=1).tolist()\n",
    "    # we'll tell TfidfVectorizer that we'd like to split data by whitespaces only \n",
    "    # so that it doesn't split by dots (we wouldn't like to have 'mail.google.com' \n",
    "    # to be split into 'mail', 'google' and 'com')\n",
    "    vectorizer = TfidfVectorizer(**vectorizer_params)\n",
    "    X_train = vectorizer.fit_transform(train_sessions)\n",
    "    X_test = vectorizer.transform(test_sessions)\n",
    "    y_train = train_df['target'].astype('int').values\n",
    "    \n",
    "    # we'll need site visit times for further feature engineering\n",
    "    train_times, test_times = train_df[times], test_df[times]\n",
    "    \n",
    "    return X_train, X_test, y_train, vectorizer, train_times, test_times\n"
   ]
  },
  {
   "cell_type": "code",
   "execution_count": null,
   "metadata": {},
   "outputs": [],
   "source": [
    "%%time\n",
    "X_train_sites, X_test_sites, y_train, vectorizer, train_times, test_times = prepare_sparse_features(\n",
    "    path_to_train=os.path.join(PATH_TO_DATA, 'train_sessions.csv'),\n",
    "    path_to_test=os.path.join(PATH_TO_DATA, 'test_sessions.csv'),\n",
    "    path_to_site_dict=os.path.join(PATH_TO_DATA, 'site_dic.pkl'),\n",
    "    vectorizer_params={'ngram_range': (1, 5), \n",
    "                       'max_features': 50000,\n",
    "                       'tokenizer': lambda s: s.split()}\n",
    ")"
   ]
  },
  {
   "cell_type": "code",
   "execution_count": null,
   "metadata": {},
   "outputs": [],
   "source": [
    "print(X_train_sites.shape, X_test_sites.shape)"
   ]
  },
  {
   "cell_type": "code",
   "execution_count": null,
   "metadata": {},
   "outputs": [],
   "source": [
    "vectorizer.get_feature_names()[:10]"
   ]
  },
  {
   "cell_type": "code",
   "execution_count": null,
   "metadata": {},
   "outputs": [],
   "source": [
    "time_split = TimeSeriesSplit(n_splits=10)"
   ]
  },
  {
   "cell_type": "code",
   "execution_count": null,
   "metadata": {},
   "outputs": [],
   "source": [
    "logit = LogisticRegression(C=1, random_state=SEED, solver='liblinear')"
   ]
  },
  {
   "cell_type": "code",
   "execution_count": null,
   "metadata": {},
   "outputs": [],
   "source": [
    "%%time\n",
    "\n",
    "cv_scores1 = cross_val_score(logit, X_train_sites, y_train, cv=time_split, \n",
    "                            scoring='roc_auc', n_jobs=4) # hangs with n_jobs > 1, and locally this runs much faster"
   ]
  },
  {
   "cell_type": "code",
   "execution_count": null,
   "metadata": {},
   "outputs": [],
   "source": [
    "cv_scores1, cv_scores1.mean()"
   ]
  },
  {
   "cell_type": "code",
   "execution_count": null,
   "metadata": {},
   "outputs": [],
   "source": [
    "logit.fit(X_train_sites, y_train)"
   ]
  },
  {
   "cell_type": "code",
   "execution_count": null,
   "metadata": {},
   "outputs": [],
   "source": [
    "eli5.show_weights(estimator=logit, \n",
    "                  feature_names=vectorizer.get_feature_names(), top=30)"
   ]
  },
  {
   "cell_type": "code",
   "execution_count": null,
   "metadata": {},
   "outputs": [],
   "source": [
    "def write_to_submission_file(predicted_labels, out_file,\n",
    "                             target='target', index_label=\"session_id\"):\n",
    "    predicted_df = pd.DataFrame(predicted_labels,\n",
    "                                index = np.arange(1, predicted_labels.shape[0] + 1),\n",
    "                                columns=[target])\n",
    "    predicted_df.to_csv(out_file, index_label=index_label)"
   ]
  },
  {
   "cell_type": "code",
   "execution_count": null,
   "metadata": {},
   "outputs": [],
   "source": [
    "logit_test_pred = logit.predict_proba(X_test_sites)[:, 1]\n",
    "write_to_submission_file(logit_test_pred, 'subm1.csv') # 0.91807"
   ]
  },
  {
   "cell_type": "code",
   "execution_count": null,
   "metadata": {},
   "outputs": [],
   "source": [
    "def train_and_predict(model, X_train, y_train, X_test, site_feature_names=vectorizer.get_feature_names(), \n",
    "                      new_feature_names=None, cv=time_split, scoring='roc_auc',\n",
    "                      top_n_features_to_show=30, submission_file_name='submission.csv'):\n",
    "    \n",
    "    \n",
    "    cv_scores = cross_val_score(model, X_train, y_train, cv=cv, \n",
    "                            scoring=scoring, n_jobs=4)\n",
    "    print('CV scores', cv_scores)\n",
    "    print('CV mean: {}, CV std: {}'.format(cv_scores.mean(), cv_scores.std()))\n",
    "    model.fit(X_train, y_train)\n",
    "    \n",
    "    if new_feature_names:\n",
    "        all_feature_names = site_feature_names + new_feature_names \n",
    "    else: \n",
    "        all_feature_names = site_feature_names\n",
    "    \n",
    "    display_html(eli5.show_weights(estimator=model, \n",
    "                  feature_names=all_feature_names, top=top_n_features_to_show))\n",
    "    \n",
    "    if new_feature_names:\n",
    "        print('New feature weights:')\n",
    "    \n",
    "        print(pd.DataFrame({'feature': new_feature_names, \n",
    "                        'coef': model.coef_.flatten()[-len(new_feature_names):]}))\n",
    "    \n",
    "    test_pred = model.predict_proba(X_test)[:, 1]\n",
    "    write_to_submission_file(test_pred, submission_file_name) \n",
    "    \n",
    "    return cv_scores"
   ]
  },
  {
   "cell_type": "code",
   "execution_count": null,
   "metadata": {},
   "outputs": [],
   "source": [
    "cv_scores1 = train_and_predict(model=logit, X_train=X_train_sites, y_train=y_train, \n",
    "                  X_test=X_test_sites, site_feature_names=vectorizer.get_feature_names(),              \n",
    "                  cv=time_split, submission_file_name='subm1.csv')"
   ]
  },
  {
   "cell_type": "code",
   "execution_count": null,
   "metadata": {},
   "outputs": [],
   "source": [
    "def add_time_features(times, X_sparse, add_hour=True):\n",
    "    active_hours = [12, 13, 16, 17, 18]\n",
    "    hour = times['time1'].apply(lambda ts: ts.hour)\n",
    "    active = ((hour == 12) | (hour == 13) | (hour == 16) | (hour == 17) | (hour == 18)).astype('int').values.reshape(-1, 1)\n",
    "    #morning = ((hour >= 7) & (hour <= 11)).astype('int').values.reshape(-1, 1)\n",
    "    #day = ((hour >= 12) & (hour <= 18)).astype('int').values.reshape(-1, 1)\n",
    "    #evening = ((hour >= 19) & (hour <= 23)).astype('int').values.reshape(-1, 1)\n",
    "    #night = ((hour >= 0) & (hour <=6)).astype('int').values.reshape(-1, 1)\n",
    "    \n",
    "    objects_to_hstack = [X_sparse, active]\n",
    "    feature_names = ['active']\n",
    "    \n",
    "    if add_hour:\n",
    "        # we'll do it right and scale hour dividing by 24\n",
    "        objects_to_hstack.append(hour.values.reshape(-1, 1) / 24)\n",
    "        feature_names.append('hour')\n",
    "        \n",
    "    X = hstack(objects_to_hstack)\n",
    "    return X, feature_names"
   ]
  },
  {
   "cell_type": "code",
   "execution_count": null,
   "metadata": {},
   "outputs": [],
   "source": [
    "%%time\n",
    "X_train_with_times1, new_feat_names = add_time_features(train_times, X_train_sites)\n",
    "X_test_with_times1, _ = add_time_features(test_times, X_test_sites)"
   ]
  },
  {
   "cell_type": "code",
   "execution_count": null,
   "metadata": {},
   "outputs": [],
   "source": [
    "X_train_with_times1.shape, X_test_with_times1.shape"
   ]
  },
  {
   "cell_type": "code",
   "execution_count": null,
   "metadata": {},
   "outputs": [],
   "source": [
    "\n",
    "\n",
    "cv_scores2 = train_and_predict(model=logit, X_train=X_train_with_times1, y_train=y_train, \n",
    "                               X_test=X_test_with_times1, \n",
    "                               site_feature_names=vectorizer.get_feature_names(),\n",
    "                               new_feature_names=new_feat_names,\n",
    "                               cv=time_split, submission_file_name='subm2.csv')\n",
    "\n"
   ]
  },
  {
   "cell_type": "code",
   "execution_count": null,
   "metadata": {},
   "outputs": [],
   "source": [
    "cv_scores2 > cv_scores1"
   ]
  },
  {
   "cell_type": "code",
   "execution_count": null,
   "metadata": {},
   "outputs": [],
   "source": [
    "X_train_with_times2, new_feat_names = add_time_features(train_times, X_train_sites, add_hour=False)\n",
    "X_test_with_times2, _ = add_time_features(test_times, X_test_sites, add_hour=False)\n",
    "\n",
    "\n",
    "cv_scores3 = train_and_predict(model=logit, X_train=X_train_with_times2, y_train=y_train, \n",
    "                               X_test=X_test_with_times2, \n",
    "                               site_feature_names=vectorizer.get_feature_names(),\n",
    "                               new_feature_names=new_feat_names,\n",
    "                               cv=time_split, submission_file_name='subm3.csv')"
   ]
  },
  {
   "cell_type": "code",
   "execution_count": null,
   "metadata": {},
   "outputs": [],
   "source": [
    "cv_scores3 > cv_scores1"
   ]
  },
  {
   "cell_type": "code",
   "execution_count": null,
   "metadata": {},
   "outputs": [],
   "source": [
    "\n",
    "\n",
    "train_durations = (train_times.max(axis=1) - train_times.min(axis=1)).astype('timedelta64[ms]').astype(int)\n",
    "test_durations = (test_times.max(axis=1) - test_times.min(axis=1)).astype('timedelta64[ms]').astype(int)\n",
    "\n",
    "scaler = StandardScaler()\n",
    "train_dur_scaled = scaler.fit_transform(train_durations.values.reshape(-1, 1))\n",
    "test_dur_scaled = scaler.transform(test_durations.values.reshape(-1, 1))\n",
    "\n"
   ]
  },
  {
   "cell_type": "code",
   "execution_count": null,
   "metadata": {},
   "outputs": [],
   "source": [
    "X_train_with_time_correct = hstack([X_train_with_times2, train_dur_scaled])\n",
    "X_test_with_time_correct = hstack([X_test_with_times2, test_dur_scaled])"
   ]
  },
  {
   "cell_type": "code",
   "execution_count": null,
   "metadata": {},
   "outputs": [],
   "source": [
    "\n",
    "\n",
    "cv_scores5 = train_and_predict(model=logit, X_train=X_train_with_time_correct, y_train=y_train, \n",
    "                               X_test=X_test_with_time_correct, \n",
    "                               site_feature_names=vectorizer.get_feature_names(),\n",
    "                               new_feature_names=new_feat_names + ['sess_duration'],\n",
    "                               cv=time_split, submission_file_name='subm5.csv')\n",
    "\n"
   ]
  },
  {
   "cell_type": "code",
   "execution_count": null,
   "metadata": {},
   "outputs": [],
   "source": [
    "cv_scores5 > cv_scores3"
   ]
  },
  {
   "cell_type": "code",
   "execution_count": null,
   "metadata": {},
   "outputs": [],
   "source": [
    "\n",
    "\n",
    "def add_day_month(times, X_sparse):\n",
    "    day_of_week = (times['time1'].apply(lambda t: t.weekday()).values.reshape(-1, 1) - 3)/3\n",
    "    month = times['time1'].apply(lambda t: t.month).values.reshape(-1, 1) \n",
    "    # linear trend: time in a form YYYYMM, we'll divide by 1e5 to scale this feature \n",
    "    year_month = times['time1'].apply(lambda t: 100 * t.year + t.month).values.reshape(-1, 1) / 1e5\n",
    "    scaler = StandardScaler()\n",
    "    dow = (times['time1'].apply(lambda t: t.weekday()))\n",
    "    active_days = ((dow == 0) | (dow == 1) | (dow == 3) | (dow == 4)).astype('int').values.reshape(-1, 1)\n",
    "\n",
    "    \n",
    "    objects_to_hstack = [X_sparse, active_days, day_of_week]\n",
    "    feature_names = ['active_days', 'day_of_week'] #'month', #'year_month']\n",
    "        \n",
    "    X = hstack(objects_to_hstack)\n",
    "    return X, feature_names\n",
    "\n"
   ]
  },
  {
   "cell_type": "code",
   "execution_count": null,
   "metadata": {},
   "outputs": [],
   "source": [
    "X_train_final, more_feat_names = add_day_month(train_times, X_train_with_time_correct)\n",
    "X_test_final, _ = add_day_month(test_times, X_test_with_time_correct)"
   ]
  },
  {
   "cell_type": "code",
   "execution_count": null,
   "metadata": {},
   "outputs": [],
   "source": [
    "cv_scores6 = train_and_predict(model=logit, X_train=X_train_final, y_train=y_train, \n",
    "                               X_test=X_test_final, \n",
    "                               site_feature_names=vectorizer.get_feature_names(),\n",
    "                               new_feature_names=new_feat_names + ['sess_duration'] + more_feat_names,\n",
    "                               cv=time_split, submission_file_name='subm6.csv')"
   ]
  },
  {
   "cell_type": "code",
   "execution_count": null,
   "metadata": {},
   "outputs": [],
   "source": [
    "def add_year(times, X_sparse):\n",
    "    \n",
    "    # linear trend: time in a form YYYYMM, we'll divide by 1e5 to scale this feature \n",
    "    year = times['time1'].apply(lambda t: t.year).values.reshape(-1, 1) - 2013.5\n",
    "    \n",
    "    objects_to_hstack = [X_sparse, year]\n",
    "    feature_names = ['year']\n",
    "        \n",
    "    X = hstack(objects_to_hstack)\n",
    "    return X, feature_names"
   ]
  },
  {
   "cell_type": "code",
   "execution_count": null,
   "metadata": {},
   "outputs": [],
   "source": [
    "X_train_year, more_feat_names1 = add_year(train_times, X_train_final)\n",
    "X_test_year, _ = add_year(test_times, X_test_final)"
   ]
  },
  {
   "cell_type": "code",
   "execution_count": null,
   "metadata": {},
   "outputs": [],
   "source": [
    "cv_scores7 = train_and_predict(model=logit, X_train=X_train_year, y_train=y_train, \n",
    "                               X_test=X_test_year, \n",
    "                               site_feature_names=vectorizer.get_feature_names(),\n",
    "                               new_feature_names=new_feat_names + ['sess_duration'] + more_feat_names + more_feat_names1,\n",
    "                               cv=time_split, submission_file_name='subm7.csv')"
   ]
  },
  {
   "cell_type": "code",
   "execution_count": null,
   "metadata": {},
   "outputs": [],
   "source": [
    "train_len1 = (train_times.count(axis = 1) == 1) * 1 - 0.5\n",
    "test_len1 = (test_times.count(axis = 1) == 1) * 1 - 0.5\n",
    "\n",
    "train_len2 = (train_times.count(axis = 1) == 2) * 1 - 0.5\n",
    "test_len2 = (test_times.count(axis = 1) == 2) * 1 - 0.5\n",
    "\n",
    "scaler = StandardScaler()\n",
    "train_len1 = scaler.fit_transform(train_len1.values.reshape(-1, 1))\n",
    "test_len1 = scaler.transform(test_len1.values.reshape(-1, 1))\n",
    "\n",
    "train_len2 = scaler.fit_transform(train_len2.values.reshape(-1, 1))\n",
    "test_len2 = scaler.transform(test_len2.values.reshape(-1, 1))"
   ]
  },
  {
   "cell_type": "code",
   "execution_count": null,
   "metadata": {},
   "outputs": [],
   "source": [
    "X_train_len1 = hstack([X_train_year])\n",
    "X_test_len1 = hstack([X_test_year])\n",
    "\n",
    "len_features = []"
   ]
  },
  {
   "cell_type": "code",
   "execution_count": null,
   "metadata": {},
   "outputs": [],
   "source": [
    "cv_scores8 = train_and_predict(model=logit, X_train=X_train_len1, y_train=y_train, \n",
    "                               X_test=X_test_len1, \n",
    "                               site_feature_names=vectorizer.get_feature_names(),\n",
    "                               new_feature_names=new_feat_names + ['sess_duration'] + more_feat_names + more_feat_names1 + len_features,\n",
    "                               cv=time_split, submission_file_name='subm8.csv')"
   ]
  },
  {
   "cell_type": "code",
   "execution_count": null,
   "metadata": {},
   "outputs": [],
   "source": [
    "cv_scores8 > cv_scores7"
   ]
  },
  {
   "cell_type": "code",
   "execution_count": null,
   "metadata": {},
   "outputs": [],
   "source": []
  },
  {
   "cell_type": "code",
   "execution_count": null,
   "metadata": {},
   "outputs": [],
   "source": [
    "logit = LogisticRegression(C=3, random_state=17, solver='liblinear')\n",
    "cv_scores = cross_val_score(logit, X_train_len1, y_train, cv=time_split, scoring='roc_auc', n_jobs=-1)\n",
    "print(cv_scores.mean(), cv_scores.std())"
   ]
  },
  {
   "cell_type": "code",
   "execution_count": null,
   "metadata": {},
   "outputs": [],
   "source": [
    "logit.fit(X_train_len1, y_train)\n",
    "logit_test_pred2 = logit.predict_proba(X_test_len1)[:, 1]\n",
    "write_to_submission_file(logit_test_pred2, 'subm5.csv')"
   ]
  },
  {
   "cell_type": "code",
   "execution_count": null,
   "metadata": {},
   "outputs": [],
   "source": []
  }
 ],
 "metadata": {
  "kernelspec": {
   "display_name": "Python 3",
   "language": "python",
   "name": "python3"
  },
  "language_info": {
   "codemirror_mode": {
    "name": "ipython",
    "version": 3
   },
   "file_extension": ".py",
   "mimetype": "text/x-python",
   "name": "python",
   "nbconvert_exporter": "python",
   "pygments_lexer": "ipython3",
   "version": "3.7.3"
  }
 },
 "nbformat": 4,
 "nbformat_minor": 2
}
